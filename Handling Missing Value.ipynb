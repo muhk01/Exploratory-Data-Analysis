{
 "cells": [
  {
   "cell_type": "markdown",
   "metadata": {},
   "source": [
    "# Handling Missing Values."
   ]
  },
  {
   "cell_type": "code",
   "execution_count": 1,
   "metadata": {
    "colab": {},
    "colab_type": "code",
    "id": "OkpNNe_dYiBg"
   },
   "outputs": [],
   "source": [
    "import matplotlib.pyplot as plt\n",
    "import pandas as pd\n",
    "%matplotlib inline"
   ]
  },
  {
   "cell_type": "code",
   "execution_count": 2,
   "metadata": {
    "colab": {},
    "colab_type": "code",
    "id": "gEcqehaCYxK3"
   },
   "outputs": [],
   "source": [
    "titanic_df = pd.read_csv('titanic-data.csv')"
   ]
  },
  {
   "cell_type": "code",
   "execution_count": 3,
   "metadata": {
    "colab": {
     "base_uri": "https://localhost:8080/",
     "height": 345
    },
    "colab_type": "code",
    "id": "B0m9aO3jY183",
    "outputId": "5bc9b54f-69ac-4d45-d82b-5c4b9cde6faa"
   },
   "outputs": [
    {
     "data": {
      "text/html": [
       "<div>\n",
       "<style scoped>\n",
       "    .dataframe tbody tr th:only-of-type {\n",
       "        vertical-align: middle;\n",
       "    }\n",
       "\n",
       "    .dataframe tbody tr th {\n",
       "        vertical-align: top;\n",
       "    }\n",
       "\n",
       "    .dataframe thead th {\n",
       "        text-align: right;\n",
       "    }\n",
       "</style>\n",
       "<table border=\"1\" class=\"dataframe\">\n",
       "  <thead>\n",
       "    <tr style=\"text-align: right;\">\n",
       "      <th></th>\n",
       "      <th>PassengerId</th>\n",
       "      <th>Survived</th>\n",
       "      <th>Pclass</th>\n",
       "      <th>Name</th>\n",
       "      <th>Sex</th>\n",
       "      <th>Age</th>\n",
       "      <th>SibSp</th>\n",
       "      <th>Parch</th>\n",
       "      <th>Ticket</th>\n",
       "      <th>Fare</th>\n",
       "      <th>Cabin</th>\n",
       "      <th>Embarked</th>\n",
       "    </tr>\n",
       "  </thead>\n",
       "  <tbody>\n",
       "    <tr>\n",
       "      <th>0</th>\n",
       "      <td>1</td>\n",
       "      <td>0</td>\n",
       "      <td>3</td>\n",
       "      <td>Braund, Mr. Owen Harris</td>\n",
       "      <td>male</td>\n",
       "      <td>22.0</td>\n",
       "      <td>1</td>\n",
       "      <td>0</td>\n",
       "      <td>A/5 21171</td>\n",
       "      <td>7.2500</td>\n",
       "      <td>NaN</td>\n",
       "      <td>S</td>\n",
       "    </tr>\n",
       "    <tr>\n",
       "      <th>1</th>\n",
       "      <td>2</td>\n",
       "      <td>1</td>\n",
       "      <td>1</td>\n",
       "      <td>Cumings, Mrs. John Bradley (Florence Briggs Th...</td>\n",
       "      <td>female</td>\n",
       "      <td>38.0</td>\n",
       "      <td>1</td>\n",
       "      <td>0</td>\n",
       "      <td>PC 17599</td>\n",
       "      <td>71.2833</td>\n",
       "      <td>C85</td>\n",
       "      <td>C</td>\n",
       "    </tr>\n",
       "    <tr>\n",
       "      <th>2</th>\n",
       "      <td>3</td>\n",
       "      <td>1</td>\n",
       "      <td>3</td>\n",
       "      <td>Heikkinen, Miss. Laina</td>\n",
       "      <td>female</td>\n",
       "      <td>26.0</td>\n",
       "      <td>0</td>\n",
       "      <td>0</td>\n",
       "      <td>STON/O2. 3101282</td>\n",
       "      <td>7.9250</td>\n",
       "      <td>NaN</td>\n",
       "      <td>S</td>\n",
       "    </tr>\n",
       "    <tr>\n",
       "      <th>3</th>\n",
       "      <td>4</td>\n",
       "      <td>1</td>\n",
       "      <td>1</td>\n",
       "      <td>Futrelle, Mrs. Jacques Heath (Lily May Peel)</td>\n",
       "      <td>female</td>\n",
       "      <td>35.0</td>\n",
       "      <td>1</td>\n",
       "      <td>0</td>\n",
       "      <td>113803</td>\n",
       "      <td>53.1000</td>\n",
       "      <td>C123</td>\n",
       "      <td>S</td>\n",
       "    </tr>\n",
       "    <tr>\n",
       "      <th>4</th>\n",
       "      <td>5</td>\n",
       "      <td>0</td>\n",
       "      <td>3</td>\n",
       "      <td>Allen, Mr. William Henry</td>\n",
       "      <td>male</td>\n",
       "      <td>35.0</td>\n",
       "      <td>0</td>\n",
       "      <td>0</td>\n",
       "      <td>373450</td>\n",
       "      <td>8.0500</td>\n",
       "      <td>NaN</td>\n",
       "      <td>S</td>\n",
       "    </tr>\n",
       "  </tbody>\n",
       "</table>\n",
       "</div>"
      ],
      "text/plain": [
       "   PassengerId  Survived  Pclass  \\\n",
       "0            1         0       3   \n",
       "1            2         1       1   \n",
       "2            3         1       3   \n",
       "3            4         1       1   \n",
       "4            5         0       3   \n",
       "\n",
       "                                                Name     Sex   Age  SibSp  \\\n",
       "0                            Braund, Mr. Owen Harris    male  22.0      1   \n",
       "1  Cumings, Mrs. John Bradley (Florence Briggs Th...  female  38.0      1   \n",
       "2                             Heikkinen, Miss. Laina  female  26.0      0   \n",
       "3       Futrelle, Mrs. Jacques Heath (Lily May Peel)  female  35.0      1   \n",
       "4                           Allen, Mr. William Henry    male  35.0      0   \n",
       "\n",
       "   Parch            Ticket     Fare Cabin Embarked  \n",
       "0      0         A/5 21171   7.2500   NaN        S  \n",
       "1      0          PC 17599  71.2833   C85        C  \n",
       "2      0  STON/O2. 3101282   7.9250   NaN        S  \n",
       "3      0            113803  53.1000  C123        S  \n",
       "4      0            373450   8.0500   NaN        S  "
      ]
     },
     "execution_count": 3,
     "metadata": {},
     "output_type": "execute_result"
    }
   ],
   "source": [
    "titanic_df.head()"
   ]
  },
  {
   "cell_type": "code",
   "execution_count": 4,
   "metadata": {
    "colab": {
     "base_uri": "https://localhost:8080/",
     "height": 69
    },
    "colab_type": "code",
    "id": "okKeakgYY4IH",
    "outputId": "ebac71b1-17e8-4a86-d3ee-4a7ac1086f7f"
   },
   "outputs": [
    {
     "data": {
      "text/plain": [
       "Index(['PassengerId', 'Survived', 'Pclass', 'Name', 'Sex', 'Age', 'SibSp',\n",
       "       'Parch', 'Ticket', 'Fare', 'Cabin', 'Embarked'],\n",
       "      dtype='object')"
      ]
     },
     "execution_count": 4,
     "metadata": {},
     "output_type": "execute_result"
    }
   ],
   "source": [
    "titanic_df.columns"
   ]
  },
  {
   "cell_type": "markdown",
   "metadata": {
    "colab_type": "text",
    "id": "KrOmgmmkchof"
   },
   "source": [
    "\n",
    "\n",
    "\n",
    "\n",
    "\n",
    "\n",
    "1.   **Survived:** Outcome of survival (0 = No; 1 = Yes)\n",
    "2.  ** Pclass:** Socio-economic class (1 = Upper class; 2 = Middle class; 3 = Lower class)\n",
    "3.   **Name:** Name of passenger\n",
    "4.  ** Sex: **Sex of the passenger\n",
    "5.  ** Age:** Age of the passenger (Some entries contain NaN)\n",
    "6.  **SibSp:** Number of siblings and spouses of the passenger aboard\n",
    "7.  **Parch:** Number of parents and children of the passenger aboard\n",
    "8.   **Ticket:** Ticket number of the passenger\n",
    "9.   **Fare: **Fare paid by the passenger\n",
    "10. **Cabin** Cabin number of the passenger (Some entries contain NaN)\n",
    "11. **Embarked:** Port of embarkation of the passenger (C = Cherbourg; Q = Queenstown; S = Southampton)\n",
    "\n",
    "\n",
    "\n",
    "\n",
    "\n",
    "\n",
    "\n"
   ]
  },
  {
   "cell_type": "code",
   "execution_count": 5,
   "metadata": {
    "colab": {
     "base_uri": "https://localhost:8080/",
     "height": 300
    },
    "colab_type": "code",
    "id": "Un0CfDWPY9xg",
    "outputId": "4990da71-d9ab-4f2d-e60a-b87f08473ab5"
   },
   "outputs": [
    {
     "data": {
      "text/html": [
       "<div>\n",
       "<style scoped>\n",
       "    .dataframe tbody tr th:only-of-type {\n",
       "        vertical-align: middle;\n",
       "    }\n",
       "\n",
       "    .dataframe tbody tr th {\n",
       "        vertical-align: top;\n",
       "    }\n",
       "\n",
       "    .dataframe thead th {\n",
       "        text-align: right;\n",
       "    }\n",
       "</style>\n",
       "<table border=\"1\" class=\"dataframe\">\n",
       "  <thead>\n",
       "    <tr style=\"text-align: right;\">\n",
       "      <th></th>\n",
       "      <th>PassengerId</th>\n",
       "      <th>Survived</th>\n",
       "      <th>Pclass</th>\n",
       "      <th>Age</th>\n",
       "      <th>SibSp</th>\n",
       "      <th>Parch</th>\n",
       "      <th>Fare</th>\n",
       "    </tr>\n",
       "  </thead>\n",
       "  <tbody>\n",
       "    <tr>\n",
       "      <th>count</th>\n",
       "      <td>891.000000</td>\n",
       "      <td>891.000000</td>\n",
       "      <td>891.000000</td>\n",
       "      <td>714.000000</td>\n",
       "      <td>891.000000</td>\n",
       "      <td>891.000000</td>\n",
       "      <td>891.000000</td>\n",
       "    </tr>\n",
       "    <tr>\n",
       "      <th>mean</th>\n",
       "      <td>446.000000</td>\n",
       "      <td>0.383838</td>\n",
       "      <td>2.308642</td>\n",
       "      <td>29.699118</td>\n",
       "      <td>0.523008</td>\n",
       "      <td>0.381594</td>\n",
       "      <td>32.204208</td>\n",
       "    </tr>\n",
       "    <tr>\n",
       "      <th>std</th>\n",
       "      <td>257.353842</td>\n",
       "      <td>0.486592</td>\n",
       "      <td>0.836071</td>\n",
       "      <td>14.526497</td>\n",
       "      <td>1.102743</td>\n",
       "      <td>0.806057</td>\n",
       "      <td>49.693429</td>\n",
       "    </tr>\n",
       "    <tr>\n",
       "      <th>min</th>\n",
       "      <td>1.000000</td>\n",
       "      <td>0.000000</td>\n",
       "      <td>1.000000</td>\n",
       "      <td>0.420000</td>\n",
       "      <td>0.000000</td>\n",
       "      <td>0.000000</td>\n",
       "      <td>0.000000</td>\n",
       "    </tr>\n",
       "    <tr>\n",
       "      <th>25%</th>\n",
       "      <td>223.500000</td>\n",
       "      <td>0.000000</td>\n",
       "      <td>2.000000</td>\n",
       "      <td>20.125000</td>\n",
       "      <td>0.000000</td>\n",
       "      <td>0.000000</td>\n",
       "      <td>7.910400</td>\n",
       "    </tr>\n",
       "    <tr>\n",
       "      <th>50%</th>\n",
       "      <td>446.000000</td>\n",
       "      <td>0.000000</td>\n",
       "      <td>3.000000</td>\n",
       "      <td>28.000000</td>\n",
       "      <td>0.000000</td>\n",
       "      <td>0.000000</td>\n",
       "      <td>14.454200</td>\n",
       "    </tr>\n",
       "    <tr>\n",
       "      <th>75%</th>\n",
       "      <td>668.500000</td>\n",
       "      <td>1.000000</td>\n",
       "      <td>3.000000</td>\n",
       "      <td>38.000000</td>\n",
       "      <td>1.000000</td>\n",
       "      <td>0.000000</td>\n",
       "      <td>31.000000</td>\n",
       "    </tr>\n",
       "    <tr>\n",
       "      <th>max</th>\n",
       "      <td>891.000000</td>\n",
       "      <td>1.000000</td>\n",
       "      <td>3.000000</td>\n",
       "      <td>80.000000</td>\n",
       "      <td>8.000000</td>\n",
       "      <td>6.000000</td>\n",
       "      <td>512.329200</td>\n",
       "    </tr>\n",
       "  </tbody>\n",
       "</table>\n",
       "</div>"
      ],
      "text/plain": [
       "       PassengerId    Survived      Pclass         Age       SibSp  \\\n",
       "count   891.000000  891.000000  891.000000  714.000000  891.000000   \n",
       "mean    446.000000    0.383838    2.308642   29.699118    0.523008   \n",
       "std     257.353842    0.486592    0.836071   14.526497    1.102743   \n",
       "min       1.000000    0.000000    1.000000    0.420000    0.000000   \n",
       "25%     223.500000    0.000000    2.000000   20.125000    0.000000   \n",
       "50%     446.000000    0.000000    3.000000   28.000000    0.000000   \n",
       "75%     668.500000    1.000000    3.000000   38.000000    1.000000   \n",
       "max     891.000000    1.000000    3.000000   80.000000    8.000000   \n",
       "\n",
       "            Parch        Fare  \n",
       "count  891.000000  891.000000  \n",
       "mean     0.381594   32.204208  \n",
       "std      0.806057   49.693429  \n",
       "min      0.000000    0.000000  \n",
       "25%      0.000000    7.910400  \n",
       "50%      0.000000   14.454200  \n",
       "75%      0.000000   31.000000  \n",
       "max      6.000000  512.329200  "
      ]
     },
     "execution_count": 5,
     "metadata": {},
     "output_type": "execute_result"
    }
   ],
   "source": [
    "titanic_df.describe()"
   ]
  },
  {
   "cell_type": "markdown",
   "metadata": {
    "colab_type": "text",
    "id": "j_W9jOIgibNX"
   },
   "source": [
    "df.describe() method gives statistical information about numerical columns of the dataset"
   ]
  },
  {
   "cell_type": "code",
   "execution_count": 6,
   "metadata": {
    "colab": {
     "base_uri": "https://localhost:8080/",
     "height": 312
    },
    "colab_type": "code",
    "id": "0U1CNXlBZBAS",
    "outputId": "f2ccbc6a-f124-4c13-f52a-2dac624ef461"
   },
   "outputs": [
    {
     "name": "stdout",
     "output_type": "stream",
     "text": [
      "<class 'pandas.core.frame.DataFrame'>\n",
      "RangeIndex: 891 entries, 0 to 890\n",
      "Data columns (total 12 columns):\n",
      "PassengerId    891 non-null int64\n",
      "Survived       891 non-null int64\n",
      "Pclass         891 non-null int64\n",
      "Name           891 non-null object\n",
      "Sex            891 non-null object\n",
      "Age            714 non-null float64\n",
      "SibSp          891 non-null int64\n",
      "Parch          891 non-null int64\n",
      "Ticket         891 non-null object\n",
      "Fare           891 non-null float64\n",
      "Cabin          204 non-null object\n",
      "Embarked       889 non-null object\n",
      "dtypes: float64(2), int64(5), object(5)\n",
      "memory usage: 83.7+ KB\n"
     ]
    }
   ],
   "source": [
    "titanic_df.info()"
   ]
  },
  {
   "cell_type": "markdown",
   "metadata": {
    "colab_type": "text",
    "id": "CZ_nGc_WivUY"
   },
   "source": [
    "## df.info tells us about column datatypes, non-null counts and memory consumption"
   ]
  },
  {
   "cell_type": "markdown",
   "metadata": {
    "colab_type": "text",
    "id": "VYKeMhDDZINw"
   },
   "source": [
    "# Three columns have missing values : Age, Cabin and Embarked"
   ]
  },
  {
   "cell_type": "markdown",
   "metadata": {
    "colab_type": "text",
    "id": "77Wzc9YsZOnu"
   },
   "source": [
    "## Cabin Column"
   ]
  },
  {
   "cell_type": "code",
   "execution_count": 7,
   "metadata": {
    "colab": {},
    "colab_type": "code",
    "id": "Vl4uKA5QZETt"
   },
   "outputs": [],
   "source": [
    "cabin_df = titanic_df['Cabin']"
   ]
  },
  {
   "cell_type": "code",
   "execution_count": 8,
   "metadata": {
    "colab": {},
    "colab_type": "code",
    "id": "E6SoztUgZWB_"
   },
   "outputs": [],
   "source": [
    "percentage_missing_cabin = (cabin_df.isnull().sum()/(len(titanic_df) * 1.0)) * 100"
   ]
  },
  {
   "cell_type": "code",
   "execution_count": 9,
   "metadata": {
    "colab": {
     "base_uri": "https://localhost:8080/",
     "height": 34
    },
    "colab_type": "code",
    "id": "QgB6IOkPZYtd",
    "outputId": "2ee75c77-ac52-4c26-bff1-df5fb32f0160"
   },
   "outputs": [
    {
     "data": {
      "text/plain": [
       "77.10437710437711"
      ]
     },
     "execution_count": 9,
     "metadata": {},
     "output_type": "execute_result"
    }
   ],
   "source": [
    "percentage_missing_cabin"
   ]
  },
  {
   "cell_type": "markdown",
   "metadata": {
    "colab_type": "text",
    "id": "qnA6WTI8ZxJF"
   },
   "source": [
    "### Over 77% values in this column are missing. It's better to drop this column altogether"
   ]
  },
  {
   "cell_type": "code",
   "execution_count": 10,
   "metadata": {
    "colab": {
     "base_uri": "https://localhost:8080/",
     "height": 69
    },
    "colab_type": "code",
    "id": "lJ8zLMWLZvgc",
    "outputId": "290d4ccb-1ed7-4d72-8953-44b27d3d7840"
   },
   "outputs": [
    {
     "data": {
      "text/plain": [
       "Index(['PassengerId', 'Survived', 'Pclass', 'Name', 'Sex', 'Age', 'SibSp',\n",
       "       'Parch', 'Ticket', 'Fare', 'Embarked'],\n",
       "      dtype='object')"
      ]
     },
     "execution_count": 10,
     "metadata": {},
     "output_type": "execute_result"
    }
   ],
   "source": [
    "titanic_df.drop(columns=['Cabin'], inplace=True)\n",
    "titanic_df.columns"
   ]
  },
  {
   "cell_type": "markdown",
   "metadata": {
    "colab_type": "text",
    "id": "UV-QLFI1aDP-"
   },
   "source": [
    "# Embarked Column"
   ]
  },
  {
   "cell_type": "code",
   "execution_count": 11,
   "metadata": {
    "colab": {},
    "colab_type": "code",
    "id": "h87k0A4vZ_Tg"
   },
   "outputs": [],
   "source": [
    "embarked_df = titanic_df['Embarked']"
   ]
  },
  {
   "cell_type": "code",
   "execution_count": 12,
   "metadata": {
    "colab": {
     "base_uri": "https://localhost:8080/",
     "height": 34
    },
    "colab_type": "code",
    "id": "CErK869KaKf1",
    "outputId": "b1077f6c-5bad-43dc-95c9-4038c81b31e5"
   },
   "outputs": [
    {
     "data": {
      "text/plain": [
       "array(['S', 'C', 'Q', nan], dtype=object)"
      ]
     },
     "execution_count": 12,
     "metadata": {},
     "output_type": "execute_result"
    }
   ],
   "source": [
    "embarked_df.unique()"
   ]
  },
  {
   "cell_type": "code",
   "execution_count": 13,
   "metadata": {
    "colab": {
     "base_uri": "https://localhost:8080/",
     "height": 86
    },
    "colab_type": "code",
    "id": "KK5BYNnAaOrI",
    "outputId": "f45f4a67-227a-41bb-e5ab-5abc6002ef29"
   },
   "outputs": [
    {
     "data": {
      "text/plain": [
       "S    644\n",
       "C    168\n",
       "Q     77\n",
       "Name: Embarked, dtype: int64"
      ]
     },
     "execution_count": 13,
     "metadata": {},
     "output_type": "execute_result"
    }
   ],
   "source": [
    "embarked_df.value_counts()"
   ]
  },
  {
   "cell_type": "markdown",
   "metadata": {
    "colab_type": "text",
    "id": "4yCUzpfGa7Zt"
   },
   "source": [
    "Majority of the passengers embarked from Southampton. Now since there are only 2 missing values, we can replace them with Southampton or 'S'"
   ]
  },
  {
   "cell_type": "code",
   "execution_count": 14,
   "metadata": {
    "colab": {
     "base_uri": "https://localhost:8080/",
     "height": 34
    },
    "colab_type": "code",
    "id": "vZuM6L_CaXRI",
    "outputId": "698bea09-ec3b-4fcf-8e74-02f0a4b5faa5"
   },
   "outputs": [
    {
     "name": "stdout",
     "output_type": "stream",
     "text": [
      "0.7227833894500562\n"
     ]
    }
   ],
   "source": [
    "print(644.0/891)"
   ]
  },
  {
   "cell_type": "code",
   "execution_count": 15,
   "metadata": {
    "colab": {},
    "colab_type": "code",
    "id": "sSOMcdujj9DU"
   },
   "outputs": [],
   "source": [
    "titanic_df['Embarked'].fillna('S', inplace=True)"
   ]
  },
  {
   "cell_type": "markdown",
   "metadata": {
    "colab_type": "text",
    "id": "9V9cb7sobBTy"
   },
   "source": [
    "# Age Column"
   ]
  },
  {
   "cell_type": "code",
   "execution_count": 16,
   "metadata": {
    "colab": {
     "base_uri": "https://localhost:8080/",
     "height": 282
    },
    "colab_type": "code",
    "id": "KS3NTjR0bC0l",
    "outputId": "2bf9b559-1b49-4bb0-b787-c89b06b71d92"
   },
   "outputs": [
    {
     "data": {
      "text/plain": [
       "<AxesSubplot:>"
      ]
     },
     "execution_count": 16,
     "metadata": {},
     "output_type": "execute_result"
    },
    {
     "data": {
      "image/png": "[encoded data removed]",
      "text/plain": [
       "<Figure size 432x288 with 1 Axes>"
      ]
     },
     "metadata": {
      "needs_background": "light"
     },
     "output_type": "display_data"
    }
   ],
   "source": [
    "titanic_df['Age'].hist(bins=45)"
   ]
  },
  {
   "cell_type": "code",
   "execution_count": 17,
   "metadata": {
    "colab": {},
    "colab_type": "code",
    "id": "mQT-ukOEbIz8"
   },
   "outputs": [],
   "source": [
    "age_df = titanic_df[['Age','Sex']]"
   ]
  },
  {
   "cell_type": "code",
   "execution_count": 18,
   "metadata": {
    "colab": {
     "base_uri": "https://localhost:8080/",
     "height": 141
    },
    "colab_type": "code",
    "id": "jt-ebdh7bp8H",
    "outputId": "18f1c5eb-bf1d-4400-80cb-f2747cc4651b"
   },
   "outputs": [
    {
     "name": "stderr",
     "output_type": "stream",
     "text": [
      "c:\\python\\lib\\site-packages\\ipykernel_launcher.py:1: SettingWithCopyWarning: \n",
      "A value is trying to be set on a copy of a slice from a DataFrame.\n",
      "Try using .loc[row_indexer,col_indexer] = value instead\n",
      "\n",
      "See the caveats in the documentation: http://pandas.pydata.org/pandas-docs/stable/user_guide/indexing.html#returning-a-view-versus-a-copy\n",
      "  \"\"\"Entry point for launching an IPython kernel.\n"
     ]
    }
   ],
   "source": [
    "age_df['Age'] = age_df.groupby('Sex').transform(lambda x: x.fillna(x.mean()))"
   ]
  },
  {
   "cell_type": "code",
   "execution_count": 19,
   "metadata": {
    "colab": {
     "base_uri": "https://localhost:8080/",
     "height": 315
    },
    "colab_type": "code",
    "id": "q3OvISNucCMQ",
    "outputId": "c6b7bde1-31c0-4d08-aa84-c3f341f85d5c"
   },
   "outputs": [
    {
     "data": {
      "text/plain": [
       "array([[<AxesSubplot:title={'center':'Age'}>]], dtype=object)"
      ]
     },
     "execution_count": 19,
     "metadata": {},
     "output_type": "execute_result"
    },
    {
     "data": {
      "image/png": "[encoded data removed]",
      "text/plain": [
       "<Figure size 432x288 with 1 Axes>"
      ]
     },
     "metadata": {
      "needs_background": "light"
     },
     "output_type": "display_data"
    }
   ],
   "source": [
    "age_df.hist(bins=45)"
   ]
  },
  {
   "cell_type": "markdown",
   "metadata": {
    "colab_type": "text",
    "id": "wt24BIuOcVjw"
   },
   "source": []
  },
  {
   "cell_type": "code",
   "execution_count": 20,
   "metadata": {
    "colab": {
     "base_uri": "https://localhost:8080/",
     "height": 439
    },
    "colab_type": "code",
    "id": "9I-691HkdkmZ",
    "outputId": "bbb77e4f-e200-44c3-b7ea-b92109f4a504"
   },
   "outputs": [
    {
     "name": "stderr",
     "output_type": "stream",
     "text": [
      "c:\\python\\lib\\site-packages\\ipykernel_launcher.py:2: SettingWithCopyWarning: \n",
      "A value is trying to be set on a copy of a slice from a DataFrame.\n",
      "Try using .loc[row_indexer,col_indexer] = value instead\n",
      "\n",
      "See the caveats in the documentation: http://pandas.pydata.org/pandas-docs/stable/user_guide/indexing.html#returning-a-view-versus-a-copy\n",
      "  \n"
     ]
    },
    {
     "data": {
      "text/plain": [
       "array([[<AxesSubplot:title={'center':'Age'}>]], dtype=object)"
      ]
     },
     "execution_count": 20,
     "metadata": {},
     "output_type": "execute_result"
    },
    {
     "data": {
      "image/png": "[encoded data removed]",
      "text/plain": [
       "<Figure size 432x288 with 1 Axes>"
      ]
     },
     "metadata": {
      "needs_background": "light"
     },
     "output_type": "display_data"
    }
   ],
   "source": [
    "age_df = titanic_df[['Age','Sex']]\n",
    "age_df['Age'] = age_df.groupby('Sex').transform(lambda x: x.fillna(x.median()))\n",
    "age_df.hist(bins=45)"
   ]
  },
  {
   "cell_type": "markdown",
   "metadata": {},
   "source": []
  },
  {
   "cell_type": "markdown",
   "metadata": {},
   "source": [
    "### Reimport Dataset, trying other method."
   ]
  },
  {
   "cell_type": "code",
   "execution_count": 21,
   "metadata": {},
   "outputs": [],
   "source": [
    "import seaborn as sns\n",
    "import numpy as np\n",
    "import datawig"
   ]
  },
  {
   "cell_type": "code",
   "execution_count": 22,
   "metadata": {},
   "outputs": [],
   "source": [
    "df = pd.read_csv('titanic-data.csv')"
   ]
  },
  {
   "cell_type": "code",
   "execution_count": 23,
   "metadata": {},
   "outputs": [
    {
     "data": {
      "text/plain": [
       "PassengerId      0\n",
       "Survived         0\n",
       "Pclass           0\n",
       "Name             0\n",
       "Sex              0\n",
       "Age            177\n",
       "SibSp            0\n",
       "Parch            0\n",
       "Ticket           0\n",
       "Fare             0\n",
       "Cabin          687\n",
       "Embarked         2\n",
       "dtype: int64"
      ]
     },
     "execution_count": 23,
     "metadata": {},
     "output_type": "execute_result"
    }
   ],
   "source": [
    "df.isnull().sum()"
   ]
  },
  {
   "cell_type": "markdown",
   "metadata": {},
   "source": [
    "### Example we will impute Age column."
   ]
  },
  {
   "cell_type": "code",
   "execution_count": 24,
   "metadata": {
    "scrolled": true
   },
   "outputs": [
    {
     "data": {
      "text/plain": [
       "<AxesSubplot:>"
      ]
     },
     "execution_count": 24,
     "metadata": {},
     "output_type": "execute_result"
    },
    {
     "data": {
      "image/png": "[encoded data removed]",
      "text/plain": [
       "<Figure size 432x288 with 1 Axes>"
      ]
     },
     "metadata": {
      "needs_background": "light"
     },
     "output_type": "display_data"
    }
   ],
   "source": [
    "abs(df.corr()['Age']).sort_values().plot(kind='bar')"
   ]
  },
  {
   "cell_type": "markdown",
   "metadata": {},
   "source": [
    "**Apply datawig and check certain columns with NaN Values."
   ]
  },
  {
   "cell_type": "code",
   "execution_count": 26,
   "metadata": {},
   "outputs": [
    {
     "name": "stderr",
     "output_type": "stream",
     "text": [
      "2021-09-30 08:43:19,658 [INFO]  \n",
      "========== start: fit model\n",
      "2021-09-30 08:43:19,658 [WARNING]  Already bound, ignoring bind()\n",
      "2021-09-30 08:43:19,713 [INFO]  Epoch[0] Batch [0-26]\tSpeed: 9037.48 samples/sec\tcross-entropy=16.981493\tAge-accuracy=0.000000\n",
      "2021-09-30 08:43:19,759 [INFO]  Epoch[0] Train-cross-entropy=15.843605\n",
      "2021-09-30 08:43:19,760 [INFO]  Epoch[0] Train-Age-accuracy=0.000000\n",
      "2021-09-30 08:43:19,762 [INFO]  Epoch[0] Time cost=0.099\n",
      "2021-09-30 08:43:19,767 [INFO]  Saved checkpoint to \"age\\model-0000.params\"\n",
      "2021-09-30 08:43:19,774 [INFO]  Epoch[0] Validation-cross-entropy=17.584346\n",
      "2021-09-30 08:43:19,776 [INFO]  Epoch[0] Validation-Age-accuracy=0.000000\n",
      "2021-09-30 08:43:19,831 [INFO]  Epoch[1] Batch [0-26]\tSpeed: 8483.68 samples/sec\tcross-entropy=16.411858\tAge-accuracy=0.000000\n",
      "2021-09-30 08:43:19,879 [INFO]  Epoch[1] Train-cross-entropy=15.234140\n",
      "2021-09-30 08:43:19,880 [INFO]  Epoch[1] Train-Age-accuracy=0.000000\n",
      "2021-09-30 08:43:19,882 [INFO]  Epoch[1] Time cost=0.103\n",
      "2021-09-30 08:43:19,887 [INFO]  Saved checkpoint to \"age\\model-0001.params\"\n",
      "2021-09-30 08:43:19,893 [INFO]  Epoch[1] Validation-cross-entropy=16.792002\n",
      "2021-09-30 08:43:19,895 [INFO]  Epoch[1] Validation-Age-accuracy=0.000000\n",
      "2021-09-30 08:43:19,947 [INFO]  Epoch[2] Batch [0-26]\tSpeed: 8845.11 samples/sec\tcross-entropy=15.934543\tAge-accuracy=0.000000\n",
      "2021-09-30 08:43:19,995 [INFO]  Epoch[2] Train-cross-entropy=14.924516\n",
      "2021-09-30 08:43:19,997 [INFO]  Epoch[2] Train-Age-accuracy=0.000000\n",
      "2021-09-30 08:43:19,998 [INFO]  Epoch[2] Time cost=0.101\n",
      "2021-09-30 08:43:20,004 [INFO]  Saved checkpoint to \"age\\model-0002.params\"\n",
      "2021-09-30 08:43:20,009 [INFO]  Epoch[2] Validation-cross-entropy=16.541280\n",
      "2021-09-30 08:43:20,011 [INFO]  Epoch[2] Validation-Age-accuracy=0.000000\n",
      "2021-09-30 08:43:20,066 [INFO]  Epoch[3] Batch [0-26]\tSpeed: 8314.10 samples/sec\tcross-entropy=15.819673\tAge-accuracy=0.000000\n",
      "2021-09-30 08:43:20,113 [INFO]  Epoch[3] Train-cross-entropy=14.828180\n",
      "2021-09-30 08:43:20,115 [INFO]  Epoch[3] Train-Age-accuracy=0.000000\n",
      "2021-09-30 08:43:20,116 [INFO]  Epoch[3] Time cost=0.104\n",
      "2021-09-30 08:43:20,123 [INFO]  Saved checkpoint to \"age\\model-0003.params\"\n",
      "2021-09-30 08:43:20,129 [INFO]  Epoch[3] Validation-cross-entropy=16.302762\n",
      "2021-09-30 08:43:20,131 [INFO]  Epoch[3] Validation-Age-accuracy=0.000000\n",
      "2021-09-30 08:43:20,196 [INFO]  Epoch[4] Batch [0-26]\tSpeed: 7045.98 samples/sec\tcross-entropy=15.674769\tAge-accuracy=0.000000\n",
      "2021-09-30 08:43:20,241 [INFO]  Epoch[4] Train-cross-entropy=14.725514\n",
      "2021-09-30 08:43:20,242 [INFO]  Epoch[4] Train-Age-accuracy=0.000000\n",
      "2021-09-30 08:43:20,244 [INFO]  Epoch[4] Time cost=0.111\n",
      "2021-09-30 08:43:20,249 [INFO]  Saved checkpoint to \"age\\model-0004.params\"\n",
      "2021-09-30 08:43:20,255 [INFO]  Epoch[4] Validation-cross-entropy=16.133984\n",
      "2021-09-30 08:43:20,256 [INFO]  Epoch[4] Validation-Age-accuracy=0.000000\n",
      "2021-09-30 08:43:20,311 [INFO]  Epoch[5] Batch [0-26]\tSpeed: 8314.14 samples/sec\tcross-entropy=15.567930\tAge-accuracy=0.000000\n",
      "2021-09-30 08:43:20,357 [INFO]  Epoch[5] Train-cross-entropy=14.650595\n",
      "2021-09-30 08:43:20,358 [INFO]  Epoch[5] Train-Age-accuracy=0.000000\n",
      "2021-09-30 08:43:20,360 [INFO]  Epoch[5] Time cost=0.102\n",
      "2021-09-30 08:43:20,366 [INFO]  Saved checkpoint to \"age\\model-0005.params\"\n",
      "2021-09-30 08:43:20,372 [INFO]  Epoch[5] Validation-cross-entropy=16.029964\n",
      "2021-09-30 08:43:20,374 [INFO]  Epoch[5] Validation-Age-accuracy=0.000000\n",
      "2021-09-30 08:43:20,437 [INFO]  Epoch[6] Batch [0-26]\tSpeed: 7045.78 samples/sec\tcross-entropy=15.486092\tAge-accuracy=0.000000\n",
      "2021-09-30 08:43:20,487 [INFO]  Epoch[6] Train-cross-entropy=14.589488\n",
      "2021-09-30 08:43:20,488 [INFO]  Epoch[6] Train-Age-accuracy=0.000000\n",
      "2021-09-30 08:43:20,490 [INFO]  Epoch[6] Time cost=0.115\n",
      "2021-09-30 08:43:20,495 [INFO]  Saved checkpoint to \"age\\model-0006.params\"\n",
      "2021-09-30 08:43:20,501 [INFO]  Epoch[6] Validation-cross-entropy=15.946155\n",
      "2021-09-30 08:43:20,503 [INFO]  Epoch[6] Validation-Age-accuracy=0.000000\n",
      "2021-09-30 08:43:20,562 [INFO]  Epoch[7] Batch [0-26]\tSpeed: 7558.35 samples/sec\tcross-entropy=15.413424\tAge-accuracy=0.000000\n",
      "2021-09-30 08:43:20,614 [INFO]  Epoch[7] Train-cross-entropy=14.531503\n",
      "2021-09-30 08:43:20,616 [INFO]  Epoch[7] Train-Age-accuracy=0.000000\n",
      "2021-09-30 08:43:20,617 [INFO]  Epoch[7] Time cost=0.112\n",
      "2021-09-30 08:43:20,623 [INFO]  Saved checkpoint to \"age\\model-0007.params\"\n",
      "2021-09-30 08:43:20,629 [INFO]  Epoch[7] Validation-cross-entropy=15.884562\n",
      "2021-09-30 08:43:20,630 [INFO]  Epoch[7] Validation-Age-accuracy=0.000000\n",
      "2021-09-30 08:43:20,688 [INFO]  Epoch[8] Batch [0-26]\tSpeed: 8151.17 samples/sec\tcross-entropy=15.348325\tAge-accuracy=0.000000\n",
      "2021-09-30 08:43:20,739 [INFO]  Epoch[8] Train-cross-entropy=14.479726\n",
      "2021-09-30 08:43:20,741 [INFO]  Epoch[8] Train-Age-accuracy=0.000000\n",
      "2021-09-30 08:43:20,741 [INFO]  Epoch[8] Time cost=0.108\n",
      "2021-09-30 08:43:20,748 [INFO]  Saved checkpoint to \"age\\model-0008.params\"\n",
      "2021-09-30 08:43:20,754 [INFO]  Epoch[8] Validation-cross-entropy=15.825779\n",
      "2021-09-30 08:43:20,756 [INFO]  Epoch[8] Validation-Age-accuracy=0.000000\n",
      "2021-09-30 08:43:20,807 [INFO]  Epoch[9] Batch [0-26]\tSpeed: 8844.75 samples/sec\tcross-entropy=15.286670\tAge-accuracy=0.000000\n",
      "2021-09-30 08:43:20,854 [INFO]  Epoch[9] Train-cross-entropy=14.428576\n",
      "2021-09-30 08:43:20,856 [INFO]  Epoch[9] Train-Age-accuracy=0.000000\n",
      "2021-09-30 08:43:20,857 [INFO]  Epoch[9] Time cost=0.099\n",
      "2021-09-30 08:43:20,863 [INFO]  Saved checkpoint to \"age\\model-0009.params\"\n",
      "2021-09-30 08:43:20,869 [INFO]  Epoch[9] Validation-cross-entropy=15.777400\n",
      "2021-09-30 08:43:20,870 [INFO]  Epoch[9] Validation-Age-accuracy=0.000000\n",
      "2021-09-30 08:43:20,927 [INFO]  Epoch[10] Batch [0-26]\tSpeed: 7994.28 samples/sec\tcross-entropy=15.229260\tAge-accuracy=0.000000\n",
      "2021-09-30 08:43:20,974 [INFO]  Epoch[10] Train-cross-entropy=14.381165\n",
      "2021-09-30 08:43:20,976 [INFO]  Epoch[10] Train-Age-accuracy=0.000000\n",
      "2021-09-30 08:43:20,977 [INFO]  Epoch[10] Time cost=0.105\n",
      "2021-09-30 08:43:20,983 [INFO]  Saved checkpoint to \"age\\model-0010.params\"\n",
      "2021-09-30 08:43:20,990 [INFO]  Epoch[10] Validation-cross-entropy=15.727870\n",
      "2021-09-30 08:43:20,992 [INFO]  Epoch[10] Validation-Age-accuracy=0.000000\n",
      "2021-09-30 08:43:21,053 [INFO]  Epoch[11] Batch [0-26]\tSpeed: 7293.13 samples/sec\tcross-entropy=15.177366\tAge-accuracy=0.000000\n",
      "2021-09-30 08:43:21,108 [INFO]  Epoch[11] Train-cross-entropy=14.336876\n",
      "2021-09-30 08:43:21,110 [INFO]  Epoch[11] Train-Age-accuracy=0.000000\n",
      "2021-09-30 08:43:21,110 [INFO]  Epoch[11] Time cost=0.116\n",
      "2021-09-30 08:43:21,117 [INFO]  Saved checkpoint to \"age\\model-0011.params\"\n",
      "2021-09-30 08:43:21,122 [INFO]  Epoch[11] Validation-cross-entropy=15.688021\n",
      "2021-09-30 08:43:21,124 [INFO]  Epoch[11] Validation-Age-accuracy=0.000000\n",
      "2021-09-30 08:43:21,185 [INFO]  Epoch[12] Batch [0-26]\tSpeed: 7293.19 samples/sec\tcross-entropy=15.126779\tAge-accuracy=0.000000\n",
      "2021-09-30 08:43:21,230 [INFO]  Epoch[12] Train-cross-entropy=14.294977\n",
      "2021-09-30 08:43:21,232 [INFO]  Epoch[12] Train-Age-accuracy=0.000000\n",
      "2021-09-30 08:43:21,233 [INFO]  Epoch[12] Time cost=0.108\n",
      "2021-09-30 08:43:21,241 [INFO]  Saved checkpoint to \"age\\model-0012.params\"\n",
      "2021-09-30 08:43:21,247 [INFO]  Epoch[12] Validation-cross-entropy=15.647604\n",
      "2021-09-30 08:43:21,249 [INFO]  Epoch[12] Validation-Age-accuracy=0.000000\n",
      "2021-09-30 08:43:21,306 [INFO]  Epoch[13] Batch [0-26]\tSpeed: 7843.45 samples/sec\tcross-entropy=15.081452\tAge-accuracy=0.000000\n",
      "2021-09-30 08:43:21,364 [INFO]  Epoch[13] Train-cross-entropy=14.254231\n",
      "2021-09-30 08:43:21,365 [INFO]  Epoch[13] Train-Age-accuracy=0.000000\n",
      "2021-09-30 08:43:21,367 [INFO]  Epoch[13] Time cost=0.117\n",
      "2021-09-30 08:43:21,372 [INFO]  Saved checkpoint to \"age\\model-0013.params\"\n",
      "2021-09-30 08:43:21,378 [INFO]  Epoch[13] Validation-cross-entropy=15.616542\n",
      "2021-09-30 08:43:21,380 [INFO]  Epoch[13] Validation-Age-accuracy=0.000000\n",
      "2021-09-30 08:43:21,437 [INFO]  Epoch[14] Batch [0-26]\tSpeed: 7994.71 samples/sec\tcross-entropy=15.029614\tAge-accuracy=0.000000\n",
      "2021-09-30 08:43:21,485 [INFO]  Epoch[14] Train-cross-entropy=14.210025\n",
      "2021-09-30 08:43:21,487 [INFO]  Epoch[14] Train-Age-accuracy=0.000000\n",
      "2021-09-30 08:43:21,488 [INFO]  Epoch[14] Time cost=0.106\n",
      "2021-09-30 08:43:21,494 [INFO]  Saved checkpoint to \"age\\model-0014.params\"\n"
     ]
    },
    {
     "name": "stderr",
     "output_type": "stream",
     "text": [
      "2021-09-30 08:43:21,500 [INFO]  Epoch[14] Validation-cross-entropy=15.581379\n",
      "2021-09-30 08:43:21,502 [INFO]  Epoch[14] Validation-Age-accuracy=0.000000\n",
      "2021-09-30 08:43:21,560 [INFO]  Epoch[15] Batch [0-26]\tSpeed: 7697.87 samples/sec\tcross-entropy=14.983002\tAge-accuracy=0.000000\n",
      "2021-09-30 08:43:21,607 [INFO]  Epoch[15] Train-cross-entropy=14.170556\n",
      "2021-09-30 08:43:21,609 [INFO]  Epoch[15] Train-Age-accuracy=0.000000\n",
      "2021-09-30 08:43:21,610 [INFO]  Epoch[15] Time cost=0.107\n",
      "2021-09-30 08:43:21,616 [INFO]  Saved checkpoint to \"age\\model-0015.params\"\n",
      "2021-09-30 08:43:21,624 [INFO]  Epoch[15] Validation-cross-entropy=15.553105\n",
      "2021-09-30 08:43:21,625 [INFO]  Epoch[15] Validation-Age-accuracy=0.000000\n",
      "2021-09-30 08:43:21,678 [INFO]  Epoch[16] Batch [0-26]\tSpeed: 8661.01 samples/sec\tcross-entropy=14.938790\tAge-accuracy=0.000000\n",
      "2021-09-30 08:43:21,722 [INFO]  Epoch[16] Train-cross-entropy=14.135862\n",
      "2021-09-30 08:43:21,724 [INFO]  Epoch[16] Train-Age-accuracy=0.000000\n",
      "2021-09-30 08:43:21,726 [INFO]  Epoch[16] Time cost=0.099\n",
      "2021-09-30 08:43:21,731 [INFO]  Saved checkpoint to \"age\\model-0016.params\"\n",
      "2021-09-30 08:43:21,737 [INFO]  Epoch[16] Validation-cross-entropy=15.527168\n",
      "2021-09-30 08:43:21,738 [INFO]  Epoch[16] Validation-Age-accuracy=0.000000\n",
      "2021-09-30 08:43:21,787 [INFO]  Epoch[17] Batch [0-26]\tSpeed: 9667.56 samples/sec\tcross-entropy=14.898256\tAge-accuracy=0.000000\n",
      "2021-09-30 08:43:21,830 [INFO]  Epoch[17] Train-cross-entropy=14.102389\n",
      "2021-09-30 08:43:21,831 [INFO]  Epoch[17] Train-Age-accuracy=0.000000\n",
      "2021-09-30 08:43:21,833 [INFO]  Epoch[17] Time cost=0.093\n",
      "2021-09-30 08:43:21,839 [INFO]  Saved checkpoint to \"age\\model-0017.params\"\n",
      "2021-09-30 08:43:21,845 [INFO]  Epoch[17] Validation-cross-entropy=15.501391\n",
      "2021-09-30 08:43:21,846 [INFO]  Epoch[17] Validation-Age-accuracy=0.000000\n",
      "2021-09-30 08:43:21,899 [INFO]  Epoch[18] Batch [0-26]\tSpeed: 8660.54 samples/sec\tcross-entropy=14.847596\tAge-accuracy=0.000000\n",
      "2021-09-30 08:43:21,942 [INFO]  Epoch[18] Train-cross-entropy=14.062050\n",
      "2021-09-30 08:43:21,943 [INFO]  Epoch[18] Train-Age-accuracy=0.000000\n",
      "2021-09-30 08:43:21,945 [INFO]  Epoch[18] Time cost=0.097\n",
      "2021-09-30 08:43:21,950 [INFO]  Saved checkpoint to \"age\\model-0018.params\"\n",
      "2021-09-30 08:43:21,957 [INFO]  Epoch[18] Validation-cross-entropy=15.483865\n",
      "2021-09-30 08:43:21,959 [INFO]  Epoch[18] Validation-Age-accuracy=0.000000\n",
      "2021-09-30 08:43:22,012 [INFO]  Epoch[19] Batch [0-26]\tSpeed: 8660.71 samples/sec\tcross-entropy=14.809441\tAge-accuracy=0.000000\n",
      "2021-09-30 08:43:22,060 [INFO]  Epoch[19] Train-cross-entropy=14.030844\n",
      "2021-09-30 08:43:22,061 [INFO]  Epoch[19] Train-Age-accuracy=0.000000\n",
      "2021-09-30 08:43:22,063 [INFO]  Epoch[19] Time cost=0.102\n",
      "2021-09-30 08:43:22,068 [INFO]  Saved checkpoint to \"age\\model-0019.params\"\n",
      "2021-09-30 08:43:22,074 [INFO]  Epoch[19] Validation-cross-entropy=15.466059\n",
      "2021-09-30 08:43:22,075 [INFO]  Epoch[19] Validation-Age-accuracy=0.000000\n",
      "2021-09-30 08:43:22,115 [INFO]  Epoch[20] Batch [0-26]\tSpeed: 11779.84 samples/sec\tcross-entropy=14.774899\tAge-accuracy=0.000000\n",
      "2021-09-30 08:43:22,170 [INFO]  Epoch[20] Train-cross-entropy=14.001933\n",
      "2021-09-30 08:43:22,171 [INFO]  Epoch[20] Train-Age-accuracy=0.000000\n",
      "2021-09-30 08:43:22,173 [INFO]  Epoch[20] Time cost=0.096\n",
      "2021-09-30 08:43:22,178 [INFO]  Saved checkpoint to \"age\\model-0020.params\"\n",
      "2021-09-30 08:43:22,184 [INFO]  Epoch[20] Validation-cross-entropy=15.457722\n",
      "2021-09-30 08:43:22,185 [INFO]  Epoch[20] Validation-Age-accuracy=0.000000\n",
      "2021-09-30 08:43:22,235 [INFO]  Epoch[21] Batch [0-26]\tSpeed: 9238.07 samples/sec\tcross-entropy=14.742877\tAge-accuracy=0.000000\n",
      "2021-09-30 08:43:22,280 [INFO]  Epoch[21] Train-cross-entropy=13.976176\n",
      "2021-09-30 08:43:22,281 [INFO]  Epoch[21] Train-Age-accuracy=0.000000\n",
      "2021-09-30 08:43:22,281 [INFO]  Epoch[21] Time cost=0.094\n",
      "2021-09-30 08:43:22,289 [INFO]  Saved checkpoint to \"age\\model-0021.params\"\n",
      "2021-09-30 08:43:22,295 [INFO]  Epoch[21] Validation-cross-entropy=15.446918\n",
      "2021-09-30 08:43:22,296 [INFO]  Epoch[21] Validation-Age-accuracy=0.000000\n",
      "2021-09-30 08:43:22,352 [INFO]  Epoch[22] Batch [0-26]\tSpeed: 8314.10 samples/sec\tcross-entropy=14.713360\tAge-accuracy=0.000000\n",
      "2021-09-30 08:43:22,397 [INFO]  Epoch[22] Train-cross-entropy=13.953180\n",
      "2021-09-30 08:43:22,397 [INFO]  Epoch[22] Train-Age-accuracy=0.000000\n",
      "2021-09-30 08:43:22,397 [INFO]  Epoch[22] Time cost=0.099\n",
      "2021-09-30 08:43:22,405 [INFO]  Saved checkpoint to \"age\\model-0022.params\"\n",
      "2021-09-30 08:43:22,411 [INFO]  Epoch[22] Validation-cross-entropy=15.433537\n",
      "2021-09-30 08:43:22,412 [INFO]  Epoch[22] Validation-Age-accuracy=0.000000\n",
      "2021-09-30 08:43:22,468 [INFO]  Epoch[23] Batch [0-26]\tSpeed: 8150.94 samples/sec\tcross-entropy=14.687124\tAge-accuracy=0.000000\n",
      "2021-09-30 08:43:22,517 [INFO]  Epoch[23] Train-cross-entropy=13.936066\n",
      "2021-09-30 08:43:22,518 [INFO]  Epoch[23] Train-Age-accuracy=0.000000\n",
      "2021-09-30 08:43:22,520 [INFO]  Epoch[23] Time cost=0.107\n",
      "2021-09-30 08:43:22,525 [INFO]  Saved checkpoint to \"age\\model-0023.params\"\n",
      "2021-09-30 08:43:22,531 [INFO]  Epoch[23] Validation-cross-entropy=15.424908\n",
      "2021-09-30 08:43:22,533 [INFO]  Epoch[23] Validation-Age-accuracy=0.000000\n",
      "2021-09-30 08:43:22,589 [INFO]  Epoch[24] Batch [0-26]\tSpeed: 7994.42 samples/sec\tcross-entropy=14.678655\tAge-accuracy=0.000000\n",
      "2021-09-30 08:43:22,637 [INFO]  Epoch[24] Train-cross-entropy=13.926624\n",
      "2021-09-30 08:43:22,638 [INFO]  Epoch[24] Train-Age-accuracy=0.000000\n",
      "2021-09-30 08:43:22,640 [INFO]  Epoch[24] Time cost=0.106\n",
      "2021-09-30 08:43:22,646 [INFO]  Saved checkpoint to \"age\\model-0024.params\"\n",
      "2021-09-30 08:43:22,651 [INFO]  Epoch[24] Validation-cross-entropy=15.434979\n",
      "2021-09-30 08:43:22,653 [INFO]  Epoch[24] Validation-Age-accuracy=0.000000\n",
      "2021-09-30 08:43:22,712 [INFO]  Epoch[25] Batch [0-26]\tSpeed: 7698.25 samples/sec\tcross-entropy=14.672133\tAge-accuracy=0.000000\n",
      "2021-09-30 08:43:22,755 [INFO]  Epoch[25] Train-cross-entropy=13.914316\n",
      "2021-09-30 08:43:22,757 [INFO]  Epoch[25] Train-Age-accuracy=0.000000\n",
      "2021-09-30 08:43:22,758 [INFO]  Epoch[25] Time cost=0.104\n",
      "2021-09-30 08:43:22,764 [INFO]  Saved checkpoint to \"age\\model-0025.params\"\n",
      "2021-09-30 08:43:22,770 [INFO]  Epoch[25] Validation-cross-entropy=15.433437\n",
      "2021-09-30 08:43:22,772 [INFO]  Epoch[25] Validation-Age-accuracy=0.000000\n",
      "2021-09-30 08:43:22,826 [INFO]  Epoch[26] Batch [0-26]\tSpeed: 8660.20 samples/sec\tcross-entropy=14.654971\tAge-accuracy=0.000000\n",
      "2021-09-30 08:43:22,869 [INFO]  Epoch[26] Train-cross-entropy=13.902989\n",
      "2021-09-30 08:43:22,870 [INFO]  Epoch[26] Train-Age-accuracy=0.000000\n",
      "2021-09-30 08:43:22,871 [INFO]  Epoch[26] Time cost=0.097\n",
      "2021-09-30 08:43:22,877 [INFO]  Saved checkpoint to \"age\\model-0026.params\"\n",
      "2021-09-30 08:43:22,883 [INFO]  Epoch[26] Validation-cross-entropy=15.433664\n",
      "2021-09-30 08:43:22,885 [INFO]  Epoch[26] Validation-Age-accuracy=0.000000\n",
      "2021-09-30 08:43:22,942 [INFO]  Epoch[27] Batch [0-26]\tSpeed: 7843.59 samples/sec\tcross-entropy=14.637911\tAge-accuracy=0.000000\n",
      "2021-09-30 08:43:22,993 [INFO]  Epoch[27] Train-cross-entropy=13.890651\n",
      "2021-09-30 08:43:22,995 [INFO]  Epoch[27] Train-Age-accuracy=0.000000\n",
      "2021-09-30 08:43:22,996 [INFO]  Epoch[27] Time cost=0.109\n",
      "2021-09-30 08:43:23,002 [INFO]  Saved checkpoint to \"age\\model-0027.params\"\n",
      "2021-09-30 08:43:23,008 [INFO]  Epoch[27] Validation-cross-entropy=15.434457\n",
      "2021-09-30 08:43:23,010 [INFO]  Epoch[27] Validation-Age-accuracy=0.000000\n",
      "2021-09-30 08:43:23,066 [INFO]  Epoch[28] Batch [0-26]\tSpeed: 8151.20 samples/sec\tcross-entropy=14.628461\tAge-accuracy=0.000000\n",
      "2021-09-30 08:43:23,116 [INFO]  Epoch[28] Train-cross-entropy=13.888436\n",
      "2021-09-30 08:43:23,117 [INFO]  Epoch[28] Train-Age-accuracy=0.000000\n",
      "2021-09-30 08:43:23,118 [INFO]  Epoch[28] Time cost=0.107\n",
      "2021-09-30 08:43:23,124 [INFO]  Saved checkpoint to \"age\\model-0028.params\"\n",
      "2021-09-30 08:43:23,130 [INFO]  No improvement detected for 5 epochs compared to 15.424908065795899 last error obtained: 15.43707447052002, stopping here\n",
      "2021-09-30 08:43:23,132 [INFO]  \n",
      "========== done (3.4900882244110107 s) fit model\n"
     ]
    }
   ],
   "source": [
    "imputer = datawig.SimpleImputer(\n",
    "    input_columns=['Pclass','SibSp'],\n",
    "    output_column='Age')\n",
    "imputer.fit(train_df = df)\n",
    "imputed = imputer.predict(df)"
   ]
  },
  {
   "cell_type": "markdown",
   "metadata": {},
   "source": [
    "**Result of Imputed Age, result may vary based on learning epoch."
   ]
  },
  {
   "cell_type": "code",
   "execution_count": 33,
   "metadata": {},
   "outputs": [
    {
     "data": {
      "text/html": [
       "<div>\n",
       "<style scoped>\n",
       "    .dataframe tbody tr th:only-of-type {\n",
       "        vertical-align: middle;\n",
       "    }\n",
       "\n",
       "    .dataframe tbody tr th {\n",
       "        vertical-align: top;\n",
       "    }\n",
       "\n",
       "    .dataframe thead th {\n",
       "        text-align: right;\n",
       "    }\n",
       "</style>\n",
       "<table border=\"1\" class=\"dataframe\">\n",
       "  <thead>\n",
       "    <tr style=\"text-align: right;\">\n",
       "      <th></th>\n",
       "      <th>Age</th>\n",
       "      <th>Pclass</th>\n",
       "      <th>Age_imputed</th>\n",
       "    </tr>\n",
       "  </thead>\n",
       "  <tbody>\n",
       "    <tr>\n",
       "      <th>31</th>\n",
       "      <td>NaN</td>\n",
       "      <td>1</td>\n",
       "      <td>38.650715</td>\n",
       "    </tr>\n",
       "    <tr>\n",
       "      <th>55</th>\n",
       "      <td>NaN</td>\n",
       "      <td>1</td>\n",
       "      <td>39.344907</td>\n",
       "    </tr>\n",
       "    <tr>\n",
       "      <th>64</th>\n",
       "      <td>NaN</td>\n",
       "      <td>1</td>\n",
       "      <td>39.344907</td>\n",
       "    </tr>\n",
       "    <tr>\n",
       "      <th>166</th>\n",
       "      <td>NaN</td>\n",
       "      <td>1</td>\n",
       "      <td>39.344907</td>\n",
       "    </tr>\n",
       "    <tr>\n",
       "      <th>168</th>\n",
       "      <td>NaN</td>\n",
       "      <td>1</td>\n",
       "      <td>39.344907</td>\n",
       "    </tr>\n",
       "    <tr>\n",
       "      <th>185</th>\n",
       "      <td>NaN</td>\n",
       "      <td>1</td>\n",
       "      <td>39.344907</td>\n",
       "    </tr>\n",
       "    <tr>\n",
       "      <th>256</th>\n",
       "      <td>NaN</td>\n",
       "      <td>1</td>\n",
       "      <td>39.344907</td>\n",
       "    </tr>\n",
       "    <tr>\n",
       "      <th>270</th>\n",
       "      <td>NaN</td>\n",
       "      <td>1</td>\n",
       "      <td>39.344907</td>\n",
       "    </tr>\n",
       "    <tr>\n",
       "      <th>284</th>\n",
       "      <td>NaN</td>\n",
       "      <td>1</td>\n",
       "      <td>39.344907</td>\n",
       "    </tr>\n",
       "    <tr>\n",
       "      <th>295</th>\n",
       "      <td>NaN</td>\n",
       "      <td>1</td>\n",
       "      <td>39.344907</td>\n",
       "    </tr>\n",
       "    <tr>\n",
       "      <th>298</th>\n",
       "      <td>NaN</td>\n",
       "      <td>1</td>\n",
       "      <td>39.344907</td>\n",
       "    </tr>\n",
       "    <tr>\n",
       "      <th>306</th>\n",
       "      <td>NaN</td>\n",
       "      <td>1</td>\n",
       "      <td>39.344907</td>\n",
       "    </tr>\n",
       "    <tr>\n",
       "      <th>334</th>\n",
       "      <td>NaN</td>\n",
       "      <td>1</td>\n",
       "      <td>38.650715</td>\n",
       "    </tr>\n",
       "    <tr>\n",
       "      <th>351</th>\n",
       "      <td>NaN</td>\n",
       "      <td>1</td>\n",
       "      <td>39.344907</td>\n",
       "    </tr>\n",
       "    <tr>\n",
       "      <th>375</th>\n",
       "      <td>NaN</td>\n",
       "      <td>1</td>\n",
       "      <td>38.650715</td>\n",
       "    </tr>\n",
       "    <tr>\n",
       "      <th>457</th>\n",
       "      <td>NaN</td>\n",
       "      <td>1</td>\n",
       "      <td>38.650715</td>\n",
       "    </tr>\n",
       "    <tr>\n",
       "      <th>475</th>\n",
       "      <td>NaN</td>\n",
       "      <td>1</td>\n",
       "      <td>39.344907</td>\n",
       "    </tr>\n",
       "    <tr>\n",
       "      <th>507</th>\n",
       "      <td>NaN</td>\n",
       "      <td>1</td>\n",
       "      <td>39.344907</td>\n",
       "    </tr>\n",
       "    <tr>\n",
       "      <th>527</th>\n",
       "      <td>NaN</td>\n",
       "      <td>1</td>\n",
       "      <td>39.344907</td>\n",
       "    </tr>\n",
       "    <tr>\n",
       "      <th>557</th>\n",
       "      <td>NaN</td>\n",
       "      <td>1</td>\n",
       "      <td>39.344907</td>\n",
       "    </tr>\n",
       "    <tr>\n",
       "      <th>602</th>\n",
       "      <td>NaN</td>\n",
       "      <td>1</td>\n",
       "      <td>39.344907</td>\n",
       "    </tr>\n",
       "    <tr>\n",
       "      <th>633</th>\n",
       "      <td>NaN</td>\n",
       "      <td>1</td>\n",
       "      <td>39.344907</td>\n",
       "    </tr>\n",
       "    <tr>\n",
       "      <th>669</th>\n",
       "      <td>NaN</td>\n",
       "      <td>1</td>\n",
       "      <td>38.650715</td>\n",
       "    </tr>\n",
       "    <tr>\n",
       "      <th>711</th>\n",
       "      <td>NaN</td>\n",
       "      <td>1</td>\n",
       "      <td>39.344907</td>\n",
       "    </tr>\n",
       "    <tr>\n",
       "      <th>740</th>\n",
       "      <td>NaN</td>\n",
       "      <td>1</td>\n",
       "      <td>39.344907</td>\n",
       "    </tr>\n",
       "    <tr>\n",
       "      <th>766</th>\n",
       "      <td>NaN</td>\n",
       "      <td>1</td>\n",
       "      <td>39.344907</td>\n",
       "    </tr>\n",
       "    <tr>\n",
       "      <th>793</th>\n",
       "      <td>NaN</td>\n",
       "      <td>1</td>\n",
       "      <td>39.344907</td>\n",
       "    </tr>\n",
       "    <tr>\n",
       "      <th>815</th>\n",
       "      <td>NaN</td>\n",
       "      <td>1</td>\n",
       "      <td>39.344907</td>\n",
       "    </tr>\n",
       "    <tr>\n",
       "      <th>839</th>\n",
       "      <td>NaN</td>\n",
       "      <td>1</td>\n",
       "      <td>39.344907</td>\n",
       "    </tr>\n",
       "    <tr>\n",
       "      <th>849</th>\n",
       "      <td>NaN</td>\n",
       "      <td>1</td>\n",
       "      <td>38.650715</td>\n",
       "    </tr>\n",
       "  </tbody>\n",
       "</table>\n",
       "</div>"
      ],
      "text/plain": [
       "     Age  Pclass  Age_imputed\n",
       "31   NaN       1    38.650715\n",
       "55   NaN       1    39.344907\n",
       "64   NaN       1    39.344907\n",
       "166  NaN       1    39.344907\n",
       "168  NaN       1    39.344907\n",
       "185  NaN       1    39.344907\n",
       "256  NaN       1    39.344907\n",
       "270  NaN       1    39.344907\n",
       "284  NaN       1    39.344907\n",
       "295  NaN       1    39.344907\n",
       "298  NaN       1    39.344907\n",
       "306  NaN       1    39.344907\n",
       "334  NaN       1    38.650715\n",
       "351  NaN       1    39.344907\n",
       "375  NaN       1    38.650715\n",
       "457  NaN       1    38.650715\n",
       "475  NaN       1    39.344907\n",
       "507  NaN       1    39.344907\n",
       "527  NaN       1    39.344907\n",
       "557  NaN       1    39.344907\n",
       "602  NaN       1    39.344907\n",
       "633  NaN       1    39.344907\n",
       "669  NaN       1    38.650715\n",
       "711  NaN       1    39.344907\n",
       "740  NaN       1    39.344907\n",
       "766  NaN       1    39.344907\n",
       "793  NaN       1    39.344907\n",
       "815  NaN       1    39.344907\n",
       "839  NaN       1    39.344907\n",
       "849  NaN       1    38.650715"
      ]
     },
     "execution_count": 33,
     "metadata": {},
     "output_type": "execute_result"
    }
   ],
   "source": [
    "imputed.loc[(df['Age'].isna()) & (df['Pclass'] == 1),['Age','Pclass','Age_imputed']]"
   ]
  },
  {
   "cell_type": "markdown",
   "metadata": {},
   "source": [
    "**Check Slicing Random Rows."
   ]
  },
  {
   "cell_type": "code",
   "execution_count": 37,
   "metadata": {},
   "outputs": [
    {
     "data": {
      "text/plain": [
       "PassengerId                   6\n",
       "Survived                      0\n",
       "Pclass                        3\n",
       "Name           Moran, Mr. James\n",
       "Sex                        male\n",
       "Age                         NaN\n",
       "SibSp                         0\n",
       "Parch                         0\n",
       "Ticket                   330877\n",
       "Fare                     8.4583\n",
       "Cabin                       NaN\n",
       "Embarked                      Q\n",
       "Age_imputed             28.0929\n",
       "Name: 5, dtype: object"
      ]
     },
     "execution_count": 37,
     "metadata": {},
     "output_type": "execute_result"
    }
   ],
   "source": [
    "imputed.iloc[5]"
   ]
  },
  {
   "cell_type": "code",
   "execution_count": null,
   "metadata": {},
   "outputs": [],
   "source": []
  }
 ],
 "metadata": {
  "colab": {
   "name": "Case Study - Missing Values in Titanic Dataset.ipynb",
   "provenance": [],
   "version": "0.3.2"
  },
  "kernelspec": {
   "display_name": "Python 3",
   "language": "python",
   "name": "python3"
  },
  "language_info": {
   "codemirror_mode": {
    "name": "ipython",
    "version": 3
   },
   "file_extension": ".py",
   "mimetype": "text/x-python",
   "name": "python",
   "nbconvert_exporter": "python",
   "pygments_lexer": "ipython3",
   "version": "3.7.7"
  }
 },
 "nbformat": 4,
 "nbformat_minor": 1
}
